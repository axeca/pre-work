{
 "cells": [
  {
   "cell_type": "markdown",
   "metadata": {},
   "source": [
    "# Robin Hood:\n",
    "We are in a competition to win the archery contest in Sherwood. With our bow and arrows we shoot on a target and try to hit as close as possible to the center.\n",
    "\n",
    "The center of the target is represented by the values (0, 0) on the coordinate axes.\n",
    "\n",
    "![](images/arrows.jpg)\n",
    "\n",
    "## Goals:\n",
    "* data structures: lists, sets, tuples\n",
    "* logical operators: if-elif-else\n",
    "* loop: while/for\n",
    "* minimum (optional sorting)\n",
    "\n",
    "## Description:\n",
    "In the 2-dimensional space, a point can be defined by a pair of values that correspond to the horizontal coordinate (x) and the vertical coordinate (y). The space can be divided into 4 zones (quadrants): Q1, Q2, Q3, Q4. Whose single point of union is the point (0, 0).\n",
    "\n",
    "If a point is in Q1 both its x coordinate and the y are positive. I leave a link to wikipedia to familiarize yourself with these quadrants.\n",
    "\n",
    "https://en.wikipedia.org/wiki/Cartesian_coordinate_system\n",
    "\n",
    "https://en.wikipedia.org/wiki/Euclidean_distance\n",
    "\n",
    "## Shots\n",
    "```\n",
    "points = [(4, 5), (-0, 2), (4, 7), (1, -3), (3, -2), (4, 5),\n",
    "          (3, 2), (5, 7), (-5, 7), (2, 2), (-4, 5), (0, -2),\n",
    "          (-4, 7), (-1, 3), (-3, 2), (-4, -5), (-3, 2),\n",
    "          (5, 7), (5, 7), (2, 2), (9, 9), (-8, -9)]\n",
    "```\n",
    "\n",
    "## Tasks\n",
    "1. Robin Hood is famous for hitting an arrow with another arrow. Did you get it?\n",
    "2. Calculate how many arrows have fallen in each quadrant.\n",
    "3. Find the point closest to the center. Calculate its distance to the center. \n",
    "4. If the target has a radius of 9, calculate the number of arrows that must be picked up in the forest."
   ]
  },
  {
   "cell_type": "code",
   "execution_count": 10,
   "metadata": {},
   "outputs": [],
   "source": [
    "# Variables\n",
    "points = [(4, 5), (-0, 2), (4, 7), (1, -3), (3, -2), (4, 5),\n",
    "          (3, 2), (5, 7), (-5, 7), (2, 2), (-4, 5), (0, -2),\n",
    "          (-4, 7), (-1, 3), (-3, 2), (-4, -5), (-3, 2),\n",
    "          (5, 7), (5, 7), (2, 2), (9, 9), (-8, -9)]"
   ]
  },
  {
   "cell_type": "code",
   "execution_count": 35,
   "metadata": {},
   "outputs": [
    {
     "name": "stdout",
     "output_type": "stream",
     "text": [
      "Counter({(5, 7): 3, (4, 5): 2, (2, 2): 2, (-3, 2): 2, (0, 2): 1, (4, 7): 1, (1, -3): 1, (3, -2): 1, (3, 2): 1, (-5, 7): 1, (-4, 5): 1, (0, -2): 1, (-4, 7): 1, (-1, 3): 1, (-4, -5): 1, (9, 9): 1, (-8, -9): 1})\n"
     ]
    }
   ],
   "source": [
    "# 1. Robin Hood is famous for hitting an arrow with another arrow. Did you get it?\n",
    "\n",
    "x_1 = [x[0] for x in points]\n",
    "y_1 = [y[1] for y in points]\n",
    "\n",
    "# If the number following the \":\" is higher than 1, it indicates that an arrow was hit with another arrow. It happend 5 times.\n",
    "from collections import Counter\n",
    "counter=Counter(points)\n",
    "print(counter)\n"
   ]
  },
  {
   "cell_type": "code",
   "execution_count": 60,
   "metadata": {},
   "outputs": [
    {
     "name": "stdout",
     "output_type": "stream",
     "text": [
      "I hit the top left quadrant 6 times\n",
      "I hit the bottom left quadrant 2 times\n",
      "I hit the top right quadrant 10 times\n",
      "I hit the bottom right quadrant 2 times\n",
      "2 arrows hit the line of some quadrant\n"
     ]
    }
   ],
   "source": [
    "# 2. Calculate how many arrows have fallen in each quadrant.\n",
    "\n",
    "Q1 = []\n",
    "for x,y in points:\n",
    "    if x < 0 and y > 0:\n",
    "        Q1.append(1)               \n",
    "print(f\"I hit the Q1 {Q1.count(1)} times\")\n",
    "\n",
    "Q2 = []\n",
    "for x,y in points:\n",
    "    if x < 0 and y < 0:\n",
    "        Q2.append(1)               \n",
    "print(f\"I hit the Q2 {Q2.count(1)} times\")\n",
    "\n",
    "Q3 = []\n",
    "for x,y in points:\n",
    "    if x > 0 and y > 0:\n",
    "        Q3.append(1)              \n",
    "print(f\"I hit the Q3 {Q3.count(1)} times\")\n",
    "\n",
    "Q4 = []\n",
    "for x,y in points:\n",
    "    if x > 0 and y < 0:\n",
    "        Q4.append(1)               \n",
    "print(f\"I hit the Q4 {Q4.count(1)} times\")\n",
    "\n",
    "on_the_line_of_quadrant = []\n",
    "for x,y in points:\n",
    "    if x == 0 or y == 0:\n",
    "        on_the_line_of_quadrant.append(1)\n",
    "print(f\"{on_the_line_of_quadrant.count(1)} arrows hit the line of some quadrant\")\n",
    "\n",
    "    "
   ]
  },
  {
   "cell_type": "code",
   "execution_count": 12,
   "metadata": {},
   "outputs": [
    {
     "name": "stdout",
     "output_type": "stream",
     "text": [
      "[6.4031242374328485, 2.0, 8.06225774829855, 3.1622776601683795, 3.605551275463989, 6.4031242374328485, 3.605551275463989, 8.602325267042627, 8.602325267042627, 2.8284271247461903, 6.4031242374328485, 2.0, 8.06225774829855, 3.1622776601683795, 3.605551275463989, 6.4031242374328485, 3.605551275463989, 8.602325267042627, 8.602325267042627, 2.8284271247461903, 12.727922061357855, 12.041594578792296]\n"
     ]
    }
   ],
   "source": [
    "# 3. Find the point closest to the center. Calculate its distance to the center\n",
    "# Defining a function that calculates the distance to the center can help.\n",
    "x_1 = [x[0] for x in points]\n",
    "y_1 = [y[1] for y in points]\n",
    "\n",
    "#print(x_1)\n",
    "\n",
    "list_1 =[]\n",
    "\n",
    "def distance(x2, y2, x1=0, y1=0,):\n",
    "    for i in range(len(points)):\n",
    "        dist = ((x1-x2[i])**2 + (y1-y2[i])**2)**0.5\n",
    "        list_1.append(dist)\n",
    "    return(list_1)\n",
    "\n",
    "\n",
    "print(distance(x2=x_1, y2=y_1))\n",
    "\n",
    "\n",
    "\n",
    "\n",
    "\n",
    "\n",
    "###Sandeep's Comments\n",
    "#Use this logic -->-> math.sqrt(x*x + y*y)--> since center = (0,0) "
   ]
  },
  {
   "cell_type": "code",
   "execution_count": 14,
   "metadata": {},
   "outputs": [
    {
     "name": "stdout",
     "output_type": "stream",
     "text": [
      "2\n"
     ]
    }
   ],
   "source": [
    "# 4. If the target has a radius of 9, calculate the number of arrows that \n",
    "# must be picked up in the forest.\n",
    "#missed_arrows = []\n",
    "#for x,y in points:\n",
    "#    if x > 9 or y > 9:\n",
    "#        missed_arrows.append(1)\n",
    "#print(f\"I have to pick up {missed_arrows.count(1)} arrows from the forrest\")\n",
    "\n",
    "\n",
    "missed_arrows = [i for i in list_1 if i > 9]\n",
    "\n",
    "print(len(missed_arrows))\n",
    "\n"
   ]
  },
  {
   "cell_type": "code",
   "execution_count": null,
   "metadata": {},
   "outputs": [],
   "source": []
  }
 ],
 "metadata": {
  "kernelspec": {
   "display_name": "Python 3",
   "language": "python",
   "name": "python3"
  },
  "language_info": {
   "codemirror_mode": {
    "name": "ipython",
    "version": 3
   },
   "file_extension": ".py",
   "mimetype": "text/x-python",
   "name": "python",
   "nbconvert_exporter": "python",
   "pygments_lexer": "ipython3",
   "version": "3.7.4"
  }
 },
 "nbformat": 4,
 "nbformat_minor": 2
}
